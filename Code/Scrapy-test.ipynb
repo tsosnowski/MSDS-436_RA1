{
 "cells": [
  {
   "cell_type": "markdown",
   "metadata": {},
   "source": [
    "https://scrapy.org/\n",
    "\n",
    "https://docs.scrapy.org/en/latest/intro/overview.html"
   ]
  },
  {
   "cell_type": "code",
   "execution_count": 1,
   "metadata": {},
   "outputs": [
    {
     "name": "stdout",
     "output_type": "stream",
     "text": [
      "Defaulting to user installation because normal site-packages is not writeableNote: you may need to restart the kernel to use updated packages.\n",
      "\n",
      "Collecting scrapy\n",
      "  Downloading Scrapy-2.11.2-py2.py3-none-any.whl.metadata (5.3 kB)\n",
      "Collecting Twisted>=18.9.0 (from scrapy)\n",
      "  Downloading twisted-24.10.0-py3-none-any.whl.metadata (20 kB)\n",
      "Collecting cryptography>=36.0.0 (from scrapy)\n",
      "  Downloading cryptography-43.0.3-cp39-abi3-win_amd64.whl.metadata (5.4 kB)\n",
      "Collecting cssselect>=0.9.1 (from scrapy)\n",
      "  Downloading cssselect-1.2.0-py2.py3-none-any.whl.metadata (2.2 kB)\n",
      "Collecting itemloaders>=1.0.1 (from scrapy)\n",
      "  Downloading itemloaders-1.3.2-py3-none-any.whl.metadata (3.9 kB)\n",
      "Collecting parsel>=1.5.0 (from scrapy)\n",
      "  Downloading parsel-1.9.1-py2.py3-none-any.whl.metadata (11 kB)\n",
      "Collecting pyOpenSSL>=21.0.0 (from scrapy)\n",
      "  Downloading pyOpenSSL-24.2.1-py3-none-any.whl.metadata (13 kB)\n",
      "Collecting queuelib>=1.4.2 (from scrapy)\n",
      "  Downloading queuelib-1.7.0-py2.py3-none-any.whl.metadata (5.7 kB)\n",
      "Collecting service-identity>=18.1.0 (from scrapy)\n",
      "  Downloading service_identity-24.2.0-py3-none-any.whl.metadata (5.1 kB)\n",
      "Collecting w3lib>=1.17.0 (from scrapy)\n",
      "  Downloading w3lib-2.2.1-py3-none-any.whl.metadata (2.1 kB)\n",
      "Collecting zope.interface>=5.1.0 (from scrapy)\n",
      "  Downloading zope.interface-7.1.1-cp310-cp310-win_amd64.whl.metadata (45 kB)\n",
      "     ---------------------------------------- 0.0/45.3 kB ? eta -:--:--\n",
      "     ---------------------------------------- 45.3/45.3 kB 2.2 MB/s eta 0:00:00\n",
      "Collecting protego>=0.1.15 (from scrapy)\n",
      "  Downloading Protego-0.3.1-py2.py3-none-any.whl.metadata (5.9 kB)\n",
      "Collecting itemadapter>=0.1.0 (from scrapy)\n",
      "  Downloading itemadapter-0.9.0-py3-none-any.whl.metadata (17 kB)\n",
      "Requirement already satisfied: setuptools in c:\\program files\\python310\\lib\\site-packages (from scrapy) (58.1.0)\n",
      "Requirement already satisfied: packaging in c:\\users\\tori_\\appdata\\roaming\\python\\python310\\site-packages (from scrapy) (23.1)\n",
      "Collecting tldextract (from scrapy)\n",
      "  Downloading tldextract-5.1.3-py3-none-any.whl.metadata (11 kB)\n",
      "Collecting lxml>=4.4.1 (from scrapy)\n",
      "  Downloading lxml-5.3.0-cp310-cp310-win_amd64.whl.metadata (3.9 kB)\n",
      "Requirement already satisfied: defusedxml>=0.7.1 in c:\\users\\tori_\\appdata\\roaming\\python\\python310\\site-packages (from scrapy) (0.7.1)\n",
      "Collecting PyDispatcher>=2.0.5 (from scrapy)\n",
      "  Downloading PyDispatcher-2.0.7-py3-none-any.whl.metadata (2.4 kB)\n",
      "Requirement already satisfied: cffi>=1.12 in c:\\users\\tori_\\appdata\\roaming\\python\\python310\\site-packages (from cryptography>=36.0.0->scrapy) (1.15.1)\n",
      "Collecting jmespath>=0.9.5 (from itemloaders>=1.0.1->scrapy)\n",
      "  Downloading jmespath-1.0.1-py3-none-any.whl.metadata (7.6 kB)\n",
      "Requirement already satisfied: attrs>=19.1.0 in c:\\users\\tori_\\appdata\\roaming\\python\\python310\\site-packages (from service-identity>=18.1.0->scrapy) (23.1.0)\n",
      "Collecting pyasn1 (from service-identity>=18.1.0->scrapy)\n",
      "  Downloading pyasn1-0.6.1-py3-none-any.whl.metadata (8.4 kB)\n",
      "Collecting pyasn1-modules (from service-identity>=18.1.0->scrapy)\n",
      "  Downloading pyasn1_modules-0.4.1-py3-none-any.whl.metadata (3.5 kB)\n",
      "Collecting automat>=24.8.0 (from Twisted>=18.9.0->scrapy)\n",
      "  Downloading Automat-24.8.1-py3-none-any.whl.metadata (8.4 kB)\n",
      "Collecting constantly>=15.1 (from Twisted>=18.9.0->scrapy)\n",
      "  Downloading constantly-23.10.4-py3-none-any.whl.metadata (1.8 kB)\n",
      "Collecting hyperlink>=17.1.1 (from Twisted>=18.9.0->scrapy)\n",
      "  Downloading hyperlink-21.0.0-py2.py3-none-any.whl.metadata (1.5 kB)\n",
      "Collecting incremental>=24.7.0 (from Twisted>=18.9.0->scrapy)\n",
      "  Downloading incremental-24.7.2-py3-none-any.whl.metadata (8.1 kB)\n",
      "Requirement already satisfied: typing-extensions>=4.2.0 in c:\\users\\tori_\\appdata\\roaming\\python\\python310\\site-packages (from Twisted>=18.9.0->scrapy) (4.7.1)\n",
      "Requirement already satisfied: idna in c:\\users\\tori_\\appdata\\roaming\\python\\python310\\site-packages (from tldextract->scrapy) (3.4)\n",
      "Requirement already satisfied: requests>=2.1.0 in c:\\users\\tori_\\appdata\\roaming\\python\\python310\\site-packages (from tldextract->scrapy) (2.31.0)\n",
      "Collecting requests-file>=1.4 (from tldextract->scrapy)\n",
      "  Downloading requests_file-2.1.0-py2.py3-none-any.whl.metadata (1.7 kB)\n",
      "Collecting filelock>=3.0.8 (from tldextract->scrapy)\n",
      "  Downloading filelock-3.16.1-py3-none-any.whl.metadata (2.9 kB)\n",
      "Requirement already satisfied: pycparser in c:\\users\\tori_\\appdata\\roaming\\python\\python310\\site-packages (from cffi>=1.12->cryptography>=36.0.0->scrapy) (2.21)\n",
      "Collecting setuptools (from scrapy)\n",
      "  Downloading setuptools-75.5.0-py3-none-any.whl.metadata (6.8 kB)\n",
      "Requirement already satisfied: tomli in c:\\users\\tori_\\appdata\\roaming\\python\\python310\\site-packages (from incremental>=24.7.0->Twisted>=18.9.0->scrapy) (2.0.1)\n",
      "Requirement already satisfied: charset-normalizer<4,>=2 in c:\\users\\tori_\\appdata\\roaming\\python\\python310\\site-packages (from requests>=2.1.0->tldextract->scrapy) (3.2.0)\n",
      "Requirement already satisfied: urllib3<3,>=1.21.1 in c:\\users\\tori_\\appdata\\roaming\\python\\python310\\site-packages (from requests>=2.1.0->tldextract->scrapy) (2.0.4)\n",
      "Requirement already satisfied: certifi>=2017.4.17 in c:\\users\\tori_\\appdata\\roaming\\python\\python310\\site-packages (from requests>=2.1.0->tldextract->scrapy) (2023.7.22)\n",
      "Downloading Scrapy-2.11.2-py2.py3-none-any.whl (290 kB)\n",
      "   ---------------------------------------- 0.0/290.1 kB ? eta -:--:--\n",
      "   -------------------------------------- - 276.5/290.1 kB 4.2 MB/s eta 0:00:01\n",
      "   ---------------------------------------- 290.1/290.1 kB 3.6 MB/s eta 0:00:00\n",
      "Downloading cryptography-43.0.3-cp39-abi3-win_amd64.whl (3.1 MB)\n",
      "   ---------------------------------------- 0.0/3.1 MB ? eta -:--:--\n",
      "   ---------- ----------------------------- 0.8/3.1 MB 16.7 MB/s eta 0:00:01\n",
      "   ---------------------- ----------------- 1.7/3.1 MB 18.2 MB/s eta 0:00:01\n",
      "   ---------------------------------------  3.1/3.1 MB 19.6 MB/s eta 0:00:01\n",
      "   ---------------------------------------- 3.1/3.1 MB 15.1 MB/s eta 0:00:00\n",
      "Downloading cssselect-1.2.0-py2.py3-none-any.whl (18 kB)\n",
      "Downloading itemadapter-0.9.0-py3-none-any.whl (11 kB)\n",
      "Downloading itemloaders-1.3.2-py3-none-any.whl (12 kB)\n",
      "Downloading lxml-5.3.0-cp310-cp310-win_amd64.whl (3.8 MB)\n",
      "   ---------------------------------------- 0.0/3.8 MB ? eta -:--:--\n",
      "   ---------- ----------------------------- 1.0/3.8 MB 21.6 MB/s eta 0:00:01\n",
      "   -------------------------- ------------- 2.6/3.8 MB 27.1 MB/s eta 0:00:01\n",
      "   ---------------------------------------  3.8/3.8 MB 27.1 MB/s eta 0:00:01\n",
      "   ---------------------------------------- 3.8/3.8 MB 20.3 MB/s eta 0:00:00\n",
      "Downloading parsel-1.9.1-py2.py3-none-any.whl (17 kB)\n",
      "Downloading Protego-0.3.1-py2.py3-none-any.whl (8.5 kB)\n",
      "Downloading PyDispatcher-2.0.7-py3-none-any.whl (12 kB)\n",
      "Downloading pyOpenSSL-24.2.1-py3-none-any.whl (58 kB)\n",
      "   ---------------------------------------- 0.0/58.4 kB ? eta -:--:--\n",
      "   ---------------------------------------- 58.4/58.4 kB 3.0 MB/s eta 0:00:00\n",
      "Downloading queuelib-1.7.0-py2.py3-none-any.whl (13 kB)\n",
      "Downloading service_identity-24.2.0-py3-none-any.whl (11 kB)\n",
      "Downloading twisted-24.10.0-py3-none-any.whl (3.2 MB)\n",
      "   ---------------------------------------- 0.0/3.2 MB ? eta -:--:--\n",
      "   -------- ------------------------------- 0.7/3.2 MB 20.8 MB/s eta 0:00:01\n",
      "   ------------------------------- -------- 2.5/3.2 MB 31.4 MB/s eta 0:00:01\n",
      "   ---------------------------------------  3.2/3.2 MB 25.4 MB/s eta 0:00:01\n",
      "   ---------------------------------------- 3.2/3.2 MB 20.2 MB/s eta 0:00:00\n",
      "Downloading w3lib-2.2.1-py3-none-any.whl (21 kB)\n",
      "Downloading zope.interface-7.1.1-cp310-cp310-win_amd64.whl (211 kB)\n",
      "   ---------------------------------------- 0.0/211.7 kB ? eta -:--:--\n",
      "   ---------------------------------------- 211.7/211.7 kB 4.3 MB/s eta 0:00:00\n",
      "Downloading tldextract-5.1.3-py3-none-any.whl (104 kB)\n",
      "   ---------------------------------------- 0.0/104.9 kB ? eta -:--:--\n",
      "   ---------------------------------------- 104.9/104.9 kB 3.1 MB/s eta 0:00:00\n",
      "Downloading Automat-24.8.1-py3-none-any.whl (42 kB)\n",
      "   ---------------------------------------- 0.0/42.6 kB ? eta -:--:--\n",
      "   ---------------------------------------- 42.6/42.6 kB 1.0 MB/s eta 0:00:00\n",
      "Downloading constantly-23.10.4-py3-none-any.whl (13 kB)\n",
      "Downloading filelock-3.16.1-py3-none-any.whl (16 kB)\n",
      "Downloading hyperlink-21.0.0-py2.py3-none-any.whl (74 kB)\n",
      "   ---------------------------------------- 0.0/74.6 kB ? eta -:--:--\n",
      "   ---------------------------------------- 74.6/74.6 kB 2.1 MB/s eta 0:00:00\n",
      "Downloading incremental-24.7.2-py3-none-any.whl (20 kB)\n",
      "Downloading setuptools-75.5.0-py3-none-any.whl (1.2 MB)\n",
      "   ---------------------------------------- 0.0/1.2 MB ? eta -:--:--\n",
      "   ------------------------------- -------- 1.0/1.2 MB 31.1 MB/s eta 0:00:01\n",
      "   ---------------------------------------  1.2/1.2 MB 25.7 MB/s eta 0:00:01\n",
      "   ---------------------------------------- 1.2/1.2 MB 15.5 MB/s eta 0:00:00\n",
      "Downloading jmespath-1.0.1-py3-none-any.whl (20 kB)\n",
      "Downloading requests_file-2.1.0-py2.py3-none-any.whl (4.2 kB)\n",
      "Downloading pyasn1-0.6.1-py3-none-any.whl (83 kB)\n",
      "   ---------------------------------------- 0.0/83.1 kB ? eta -:--:--\n",
      "   ---------------------------------------- 83.1/83.1 kB 2.4 MB/s eta 0:00:00\n",
      "Downloading pyasn1_modules-0.4.1-py3-none-any.whl (181 kB)\n",
      "   ---------------------------------------- 0.0/181.5 kB ? eta -:--:--\n",
      "   ---------------------------------------- 181.5/181.5 kB 5.5 MB/s eta 0:00:00\n",
      "Installing collected packages: PyDispatcher, w3lib, setuptools, queuelib, pyasn1, protego, lxml, jmespath, itemadapter, hyperlink, filelock, cssselect, constantly, automat, zope.interface, requests-file, pyasn1-modules, parsel, incremental, cryptography, Twisted, tldextract, service-identity, pyOpenSSL, itemloaders, scrapy\n",
      "Successfully installed PyDispatcher-2.0.7 Twisted-24.10.0 automat-24.8.1 constantly-23.10.4 cryptography-43.0.3 cssselect-1.2.0 filelock-3.16.1 hyperlink-21.0.0 incremental-24.7.2 itemadapter-0.9.0 itemloaders-1.3.2 jmespath-1.0.1 lxml-5.3.0 parsel-1.9.1 protego-0.3.1 pyOpenSSL-24.2.1 pyasn1-0.6.1 pyasn1-modules-0.4.1 queuelib-1.7.0 requests-file-2.1.0 scrapy-2.11.2 service-identity-24.2.0 setuptools-75.5.0 tldextract-5.1.3 w3lib-2.2.1 zope.interface-7.1.1\n"
     ]
    },
    {
     "name": "stderr",
     "output_type": "stream",
     "text": [
      "\n",
      "[notice] A new release of pip is available: 24.1.2 -> 24.3.1\n",
      "[notice] To update, run: python.exe -m pip install --upgrade pip\n"
     ]
    }
   ],
   "source": [
    "pip install scrapy"
   ]
  },
  {
   "cell_type": "markdown",
   "metadata": {},
   "source": []
  },
  {
   "cell_type": "code",
   "execution_count": 2,
   "metadata": {},
   "outputs": [],
   "source": [
    "import scrapy"
   ]
  },
  {
   "cell_type": "code",
   "execution_count": 2,
   "metadata": {},
   "outputs": [],
   "source": [
    "class BlogSpider(scrapy.Spider):\n",
    "    name = 'blogspider'\n",
    "    start_urls = ['https://www.zyte.com/blog/']\n",
    "\n",
    "    def parse(self, response):\n",
    "        for title in response.css('.oxy-post-title'):\n",
    "            yield {'title': title.css('::text').get()}\n",
    "\n",
    "        for next_page in response.css('a.next'):\n",
    "            yield response.follow(next_page, self.parse)"
   ]
  },
  {
   "cell_type": "code",
   "execution_count": 3,
   "metadata": {},
   "outputs": [
    {
     "ename": "SyntaxError",
     "evalue": "invalid syntax (1739804766.py, line 1)",
     "output_type": "error",
     "traceback": [
      "\u001b[1;36m  Cell \u001b[1;32mIn[3], line 1\u001b[1;36m\u001b[0m\n\u001b[1;33m    scrapy runspider myspider.py\u001b[0m\n\u001b[1;37m           ^\u001b[0m\n\u001b[1;31mSyntaxError\u001b[0m\u001b[1;31m:\u001b[0m invalid syntax\n"
     ]
    }
   ],
   "source": [
    "scrapy runspider myspider.py"
   ]
  },
  {
   "cell_type": "code",
   "execution_count": null,
   "metadata": {},
   "outputs": [
    {
     "ename": "SyntaxError",
     "evalue": "invalid syntax (3527612286.py, line 1)",
     "output_type": "error",
     "traceback": [
      "\u001b[1;36m  Cell \u001b[1;32mIn[5], line 1\u001b[1;36m\u001b[0m\n\u001b[1;33m    scrapy.runspider quotes_spider.py -o quotes.jsonl\u001b[0m\n\u001b[1;37m                     ^\u001b[0m\n\u001b[1;31mSyntaxError\u001b[0m\u001b[1;31m:\u001b[0m invalid syntax\n"
     ]
    }
   ],
   "source": [
    "scrapy runspider quotes_spider.py -o quotes.jsonl"
   ]
  }
 ],
 "metadata": {
  "kernelspec": {
   "display_name": "Python 3",
   "language": "python",
   "name": "python3"
  },
  "language_info": {
   "codemirror_mode": {
    "name": "ipython",
    "version": 3
   },
   "file_extension": ".py",
   "mimetype": "text/x-python",
   "name": "python",
   "nbconvert_exporter": "python",
   "pygments_lexer": "ipython3",
   "version": "3.10.4"
  }
 },
 "nbformat": 4,
 "nbformat_minor": 2
}
